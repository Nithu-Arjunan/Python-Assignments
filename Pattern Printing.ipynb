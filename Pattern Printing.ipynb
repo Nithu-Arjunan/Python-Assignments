{
 "cells": [
  {
   "cell_type": "code",
   "execution_count": 1,
   "id": "8c696a3c-0ecd-4a3b-883d-76efd71bf434",
   "metadata": {},
   "outputs": [
    {
     "name": "stdout",
     "output_type": "stream",
     "text": [
      "*\n",
      "**\n",
      "***\n",
      "****\n"
     ]
    }
   ],
   "source": [
    "# Q1 Right angled star triangle\n",
    "\n",
    "n=4\n",
    "\n",
    "for i in range(1,n+1):\n",
    "    print(\"*\"*i)"
   ]
  },
  {
   "cell_type": "code",
   "execution_count": 5,
   "id": "0cf67bdc-c991-4ba7-8b5d-f58c720308bd",
   "metadata": {},
   "outputs": [
    {
     "name": "stdout",
     "output_type": "stream",
     "text": [
      "*****\n",
      "****\n",
      "***\n",
      "**\n",
      "*\n"
     ]
    }
   ],
   "source": [
    "# Q2 Inverted star triangle\n",
    "\n",
    "n=5\n",
    "for i in range(n,0,-1):\n",
    "    print(\"*\"*i)"
   ]
  },
  {
   "cell_type": "code",
   "execution_count": 55,
   "id": "01b7254a-df7e-431e-b0c8-c8237000af04",
   "metadata": {},
   "outputs": [
    {
     "name": "stdout",
     "output_type": "stream",
     "text": [
      "1\n",
      "12\n",
      "123\n",
      "1234\n",
      "12345\n"
     ]
    }
   ],
   "source": [
    "#Q3) Number triangle\n",
    "\n",
    "n=5\n",
    "for i in range(1,n+1):\n",
    "    for j in range(1,i+1):\n",
    "        print(j,end=\"\")\n",
    "    print()"
   ]
  },
  {
   "cell_type": "code",
   "execution_count": 35,
   "id": "7a293f34-9caf-4842-a137-ffdf45f08aeb",
   "metadata": {},
   "outputs": [
    {
     "name": "stdout",
     "output_type": "stream",
     "text": [
      "1 2 3 "
     ]
    }
   ],
   "source": [
    "n=3\n",
    "for i in range(1,n+1):\n",
    "    print(i,end=\" \")"
   ]
  },
  {
   "cell_type": "code",
   "execution_count": 41,
   "id": "093c19a0-5f0f-450f-ba44-d5126ddc375e",
   "metadata": {},
   "outputs": [
    {
     "name": "stdout",
     "output_type": "stream",
     "text": [
      "    *\n",
      "   **\n",
      "  ***\n",
      " ****\n",
      "*****\n"
     ]
    }
   ],
   "source": [
    "# Q4) Right aligned triangle\n",
    "\n",
    "n=5\n",
    "\n",
    "for i in range(1,n+1):\n",
    "    print(\" \"*(n-i) + \"*\"*i)"
   ]
  },
  {
   "cell_type": "code",
   "execution_count": 49,
   "id": "3f7d00e2-96b4-4c01-972a-0949619adc48",
   "metadata": {},
   "outputs": [
    {
     "name": "stdout",
     "output_type": "stream",
     "text": [
      "A \n",
      "A B \n",
      "A B C \n",
      "A B C D \n",
      "A B C D E \n"
     ]
    }
   ],
   "source": [
    "# Q5) Increasing letters\n",
    "n=5\n",
    "\n",
    "for i in range(1,n+1):\n",
    "    for j in range(i):\n",
    "        print(chr(65 +j),end=\" \")\n",
    "    print()"
   ]
  },
  {
   "cell_type": "code",
   "execution_count": 47,
   "id": "7d79fc81-9ddb-4803-aec2-830b56fb0cf9",
   "metadata": {},
   "outputs": [
    {
     "name": "stdout",
     "output_type": "stream",
     "text": [
      "A\n"
     ]
    }
   ],
   "source": [
    "print(chr(65))"
   ]
  },
  {
   "cell_type": "code",
   "execution_count": 63,
   "id": "880084f3-df77-415b-bb58-a1bde960710b",
   "metadata": {},
   "outputs": [
    {
     "name": "stdout",
     "output_type": "stream",
     "text": [
      "1\n",
      "22\n",
      "333\n",
      "4444\n",
      "55555\n"
     ]
    }
   ],
   "source": [
    "#Q6) Numbers repeated by row\n",
    "\n",
    "for i in range(1,i+1):\n",
    "    print(str(i)*i)"
   ]
  },
  {
   "cell_type": "code",
   "execution_count": 67,
   "id": "da54e57b-7fc8-46c7-a1a3-2fedd8a4910f",
   "metadata": {},
   "outputs": [
    {
     "name": "stdout",
     "output_type": "stream",
     "text": [
      "0\n",
      "10\n",
      "010\n",
      "1010\n",
      "01010\n"
     ]
    }
   ],
   "source": [
    "# Q7) Alternate 0s and 1s\n",
    "n=5\n",
    "for i in range (1,n+1):\n",
    "    for j in range(1,i+1):\n",
    "        print((i+j)%2,end='')\n",
    "    print()"
   ]
  },
  {
   "cell_type": "code",
   "execution_count": 77,
   "id": "6597a7a7-12c9-4795-a85f-1883c6636795",
   "metadata": {},
   "outputs": [
    {
     "name": "stdout",
     "output_type": "stream",
     "text": [
      "1 \n",
      "2 3 \n",
      "4 5 6 \n",
      "7 8 9 10 \n"
     ]
    }
   ],
   "source": [
    "# Q8) Floyds triangle\n",
    "\n",
    "n=4\n",
    "num=1\n",
    "for i in range(1,n+1):\n",
    "    for j in range(i):\n",
    "        print(num,end=' ')\n",
    "        num +=1\n",
    "    print()"
   ]
  },
  {
   "cell_type": "code",
   "execution_count": 5,
   "id": "1c4fb272-3848-4bf5-8561-9713a59ec3eb",
   "metadata": {},
   "outputs": [
    {
     "name": "stdout",
     "output_type": "stream",
     "text": [
      "   *\n",
      "  ***\n",
      " *****\n",
      "*******\n"
     ]
    }
   ],
   "source": [
    "# Q9) Centered star pyramid\n",
    "\n",
    "n = 4\n",
    "for i in range(1,n+1):\n",
    "    print(' '*(n-i) + '*'*(2*i-1))"
   ]
  },
  {
   "cell_type": "code",
   "execution_count": 17,
   "id": "286f8b35-49cd-4a92-a42e-26759957f953",
   "metadata": {},
   "outputs": [
    {
     "name": "stdout",
     "output_type": "stream",
     "text": [
      "*****\n",
      "*   *\n",
      "*   *\n",
      "*****\n"
     ]
    }
   ],
   "source": [
    "# q10) Hollow Rectangle\n",
    "\n",
    "rows = 4 \n",
    "cols = 5\n",
    "for i in range(rows):\n",
    "    for j in range(cols):\n",
    "        if i == 0 or i == rows - 1 or j == 0 or j == cols - 1:\n",
    "            print('*',end =\"\")\n",
    "        else:\n",
    "            print(\" \",end = \"\")\n",
    "    print()\n"
   ]
  },
  {
   "cell_type": "code",
   "execution_count": null,
   "id": "7aff4207-874a-40e7-8c73-332675d434cc",
   "metadata": {},
   "outputs": [],
   "source": []
  }
 ],
 "metadata": {
  "kernelspec": {
   "display_name": "Python 3 (ipykernel)",
   "language": "python",
   "name": "python3"
  },
  "language_info": {
   "codemirror_mode": {
    "name": "ipython",
    "version": 3
   },
   "file_extension": ".py",
   "mimetype": "text/x-python",
   "name": "python",
   "nbconvert_exporter": "python",
   "pygments_lexer": "ipython3",
   "version": "3.12.7"
  }
 },
 "nbformat": 4,
 "nbformat_minor": 5
}
