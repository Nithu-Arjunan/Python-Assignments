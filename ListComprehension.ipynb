{
 "cells": [
  {
   "cell_type": "code",
   "execution_count": 1,
   "id": "dc9dbb0d-65a2-494b-96f1-3e63150480e8",
   "metadata": {},
   "outputs": [
    {
     "name": "stdout",
     "output_type": "stream",
     "text": [
      "[0, 2, 4, 6, 8, 10, 12, 14, 16, 18]\n"
     ]
    }
   ],
   "source": [
    "# 1. Create a list of even numbers from 0 to 20\n",
    "\n",
    "a = [x for x in range(21) if x % 2 == 0]\n",
    "print(a)"
   ]
  },
  {
   "cell_type": "code",
   "execution_count": 5,
   "id": "87b6f763-56b8-4480-995e-aefefce75d23",
   "metadata": {},
   "outputs": [
    {
     "name": "stdout",
     "output_type": "stream",
     "text": [
      "['PYTHON', 'DATA', 'SCIENCE']\n"
     ]
    }
   ],
   "source": [
    "# 2. Convert a list of strings to uppercase\n",
    "\n",
    "words = ['python', 'data', 'science']\n",
    "upper_case = [x.upper() for x in words]\n",
    "print(upper_case)"
   ]
  },
  {
   "cell_type": "code",
   "execution_count": 7,
   "id": "6511b462-9ac4-4bf0-928d-0bf84571c181",
   "metadata": {},
   "outputs": [
    {
     "name": "stdout",
     "output_type": "stream",
     "text": [
      "[1, 9, 25, 49, 81]\n"
     ]
    }
   ],
   "source": [
    "# 3. Get square of all odd numbers from 1 to 10\n",
    "\n",
    "odd_square = [x*x for x in range(10) if x % 2 != 0]\n",
    "print(odd_square)"
   ]
  },
  {
   "cell_type": "code",
   "execution_count": 9,
   "id": "75c9d0eb-ee65-40b6-9a3f-7408cfcc9ba9",
   "metadata": {},
   "outputs": [
    {
     "name": "stdout",
     "output_type": "stream",
     "text": [
      "['1', '2', '3']\n"
     ]
    }
   ],
   "source": [
    "# 4. Extract digits from a string\n",
    "\n",
    "data = \"abc123xyz\"\n",
    "digits = [x for x in data if x.isdigit()]\n",
    "print(digits)"
   ]
  },
  {
   "cell_type": "code",
   "execution_count": 11,
   "id": "1ca6e178-1ded-400c-8157-5b1106574044",
   "metadata": {},
   "outputs": [
    {
     "name": "stdout",
     "output_type": "stream",
     "text": [
      "['data', 'developer']\n"
     ]
    }
   ],
   "source": [
    "# 5. Filter words starting with 'd'\n",
    "words = ['data', 'python', 'developer', 'science']\n",
    "\n",
    "words_d = [word for word in words if word.startswith('d')]\n",
    "print(words_d)"
   ]
  },
  {
   "cell_type": "code",
   "execution_count": 15,
   "id": "2933a03c-4853-4d2a-a9fc-f2c647b53fc5",
   "metadata": {},
   "outputs": [
    {
     "name": "stdout",
     "output_type": "stream",
     "text": [
      "[(1, 1), (2, 4), (3, 9), (4, 16), (5, 25), (6, 36), (7, 49), (8, 64), (9, 81), (10, 100)]\n"
     ]
    }
   ],
   "source": [
    "# 6. Create a list of (number, square) tuples for 1 to 10\n",
    "list_tuple =[(x,x*x) for x in range(1,11) ]\n",
    "print(list_tuple)"
   ]
  },
  {
   "cell_type": "code",
   "execution_count": 17,
   "id": "f4f58a4c-bcd4-4633-8613-e93c32c4a866",
   "metadata": {},
   "outputs": [
    {
     "name": "stdout",
     "output_type": "stream",
     "text": [
      "[0, 3, 0, 7, 0]\n"
     ]
    }
   ],
   "source": [
    "# 7. Replace all negative numbers with 0 in a list\n",
    "nums = [-5, 3, -2, 7, -1]\n",
    "num_positive = [x if x>0 else 0 for x in nums]\n",
    "print(num_positive)"
   ]
  },
  {
   "cell_type": "code",
   "execution_count": 23,
   "id": "93f864d6-25ac-4d7a-abe4-95b881d7db56",
   "metadata": {},
   "outputs": [
    {
     "name": "stdout",
     "output_type": "stream",
     "text": [
      "[1, 2, 3, 4, 5, 6, 7, 8, 9]\n"
     ]
    }
   ],
   "source": [
    "# 8. Flatten a 2D list into a 1D list\n",
    "\n",
    "matrix = [[1, 2, 3], [4, 5, 6], [7, 8, 9]]\n",
    "flattened = [y for x in matrix for y in x]\n",
    "print(flattened)"
   ]
  },
  {
   "cell_type": "code",
   "execution_count": 31,
   "id": "896866ea-8fee-4208-ba89-1b942ac8f4b3",
   "metadata": {},
   "outputs": [
    {
     "name": "stdout",
     "output_type": "stream",
     "text": [
      "[[1, 4, 7], [2, 5, 8], [3, 6, 9]]\n"
     ]
    }
   ],
   "source": [
    "# 9. Transpose a 2D matrix\n",
    "matrix = [[1, 2, 3], [4, 5, 6], [7, 8, 9]]\n",
    "\n",
    "transpose = [[row[i] for row in matrix] for i in range(len(matrix[0]))]\n",
    "print(transpose)"
   ]
  },
  {
   "cell_type": "code",
   "execution_count": 39,
   "id": "00276156-1dc8-49a3-94f6-ac133e9e9fff",
   "metadata": {},
   "outputs": [
    {
     "name": "stdout",
     "output_type": "stream",
     "text": [
      "[[1, 2, 3, 4, 5, 6, 7, 8, 9, 10], [2, 4, 6, 8, 10, 12, 14, 16, 18, 20], [3, 6, 9, 12, 15, 18, 21, 24, 27, 30], [4, 8, 12, 16, 20, 24, 28, 32, 36, 40], [5, 10, 15, 20, 25, 30, 35, 40, 45, 50]]\n"
     ]
    }
   ],
   "source": [
    "# 10. Create a multiplication table (1 to 5)\n",
    "mul_table = [[i * j for i in range (1,11)] for j in range(1,6)]\n",
    "print(mul_table)\n"
   ]
  },
  {
   "cell_type": "code",
   "execution_count": 45,
   "id": "03e6b016-3c00-4c5c-9f6a-e43e2549cdaf",
   "metadata": {},
   "outputs": [
    {
     "name": "stdout",
     "output_type": "stream",
     "text": [
      "Numbers divisible by bot 3 and 5 : [15, 30, 45, 60, 75, 90]\n"
     ]
    }
   ],
   "source": [
    "# Assignment 1:\n",
    "# Create a list of all numbers from 1 to 100 that are divisible by both 3 and 5\n",
    "# Expected: [15, 30, 45, ..., 90]\n",
    "\n",
    "nums = [x for x in range(1,101) if ((x % 3) == 0 and (x % 5) == 0)] \n",
    "print(\"Numbers divisible by both 3 and 5 :\" , nums)"
   ]
  },
  {
   "cell_type": "code",
   "execution_count": 55,
   "id": "4dd0892e-0643-49dc-9bde-173e924a9526",
   "metadata": {},
   "outputs": [
    {
     "name": "stdout",
     "output_type": "stream",
     "text": [
      "Lst cmprhnsn mks lf sr\n"
     ]
    }
   ],
   "source": [
    "# Assignment 2:\n",
    "# Remove all vowels from a given sentence using list comprehension\n",
    "\n",
    "sentence = \"List comprehension makes life easier\"\n",
    "vowels = \"aeiouAEIOU\"\n",
    "vowels_removed = ''.join([char for char in sentence if char not in vowels])\n",
    "print(vowels_removed)"
   ]
  },
  {
   "cell_type": "code",
   "execution_count": 3,
   "id": "3231cf38-9b5a-4b5c-badd-527532a0b012",
   "metadata": {},
   "outputs": [
    {
     "data": {
      "text/plain": [
       "[[1, 0, 0], [0, 1, 0], [0, 0, 1]]"
      ]
     },
     "execution_count": 3,
     "metadata": {},
     "output_type": "execute_result"
    }
   ],
   "source": [
    "# Assignment 3:\n",
    "# Create a 3x3 identity matrix using list comprehension\n",
    "\n",
    "unit_matrix = [[1 if i == j else 0 for i in range(3)] for j in range(3)]\n",
    "unit_matrix"
   ]
  },
  {
   "cell_type": "code",
   "execution_count": 67,
   "id": "56dcfbb3-f4d7-45c3-863c-cca5edf83222",
   "metadata": {},
   "outputs": [
    {
     "name": "stdout",
     "output_type": "stream",
     "text": [
      "[2, 4, 6, 8]\n"
     ]
    }
   ],
   "source": [
    "# Assignment 4:\n",
    "# From a nested list of integers, flatten and filter out only even numbers\n",
    "nested = [[1,2,3],[4,5,6],[7,8,9]]\n",
    "\n",
    "flattened = [y for x in nested for y in x if y % 2 == 0]\n",
    "print(flattened)"
   ]
  },
  {
   "cell_type": "code",
   "execution_count": 25,
   "id": "930cf68c-f118-4738-81b0-f2c7ecdc9cf0",
   "metadata": {},
   "outputs": [
    {
     "name": "stdout",
     "output_type": "stream",
     "text": [
      "[1, 'a', 2, 'b', 3, 'c', 4, 'd', 5, 6]\n"
     ]
    }
   ],
   "source": [
    "#5. Extract all integers from a nested list of mixed types (str, list, int)\n",
    "data = [1, 'a', [2, 'b', [3, 'c'], 4], 'd', [5, 6]]\n",
    "\n",
    "i =0\n",
    "while i < len(data) :\n",
    "    if isinstance(data[i],list):\n",
    "        data[i:i+1] = data[i]\n",
    "    else:\n",
    "        i+=1\n",
    "print(data)"
   ]
  },
  {
   "cell_type": "code",
   "execution_count": 23,
   "id": "769f6245-d569-4ae0-af7a-feecccb7ba45",
   "metadata": {},
   "outputs": [
    {
     "name": "stdout",
     "output_type": "stream",
     "text": [
      "[1, 2, 3, 4, 5, 6, 7]\n"
     ]
    }
   ],
   "source": [
    "# 6. Deep flattening a list \n",
    "\n",
    "nested_deep = [1, [2, [3, [4, 5]], 6], 7]\n",
    "\n",
    "\n",
    "i=0\n",
    "while (i < len(nested_deep)):\n",
    "    if isinstance(nested_deep[i],list):\n",
    "        nested_deep[i:i+1] = nested_deep[i]\n",
    "    else:\n",
    "        i+=1\n",
    "print(nested_deep)"
   ]
  },
  {
   "cell_type": "code",
   "execution_count": 77,
   "id": "2d4196ae-73f2-4afa-b7b9-54a54157e567",
   "metadata": {},
   "outputs": [
    {
     "name": "stdout",
     "output_type": "stream",
     "text": [
      "[-1, 2, -1, 4, -1, 6, -1, 8, -1]\n"
     ]
    }
   ],
   "source": [
    "# 7. Replace all odd numbers in a matrix with -1 using nested list comprehension\n",
    "matrix = [[1, 2, 3], [4, 5, 6], [7, 8, 9]]\n",
    "\n",
    "flattened = [-1 if (y % 2 != 0) else y for x in matrix for y in x]\n",
    "print(flattened)"
   ]
  },
  {
   "cell_type": "code",
   "execution_count": 83,
   "id": "b7c54664-408e-4b2e-9a7c-eb8668ddf358",
   "metadata": {},
   "outputs": [
    {
     "name": "stdout",
     "output_type": "stream",
     "text": [
      "[[2, 3, 4, 5, 6], [3, 4, 5, 6, 7], [4, 5, 6, 7, 8], [5, 6, 7, 8, 9], [6, 7, 8, 9, 10]]\n"
     ]
    }
   ],
   "source": [
    "# 8. Generate a 5x5 matrix with values as the sum of row and column indices\n",
    "\n",
    "matrix = [[i+j for i in range(1,6)] for j in range(1,6)]\n",
    "print(matrix)"
   ]
  },
  {
   "cell_type": "code",
   "execution_count": 5,
   "id": "d792ccb3-2266-4c33-8eed-f1b27f4ef04b",
   "metadata": {},
   "outputs": [
    {
     "data": {
      "text/plain": [
       "[34]"
      ]
     },
     "execution_count": 5,
     "metadata": {},
     "output_type": "execute_result"
    }
   ],
   "source": [
    "l = [1,2,34,45]\n",
    "l[2:3]"
   ]
  },
  {
   "cell_type": "code",
   "execution_count": 21,
   "id": "7d22f123-17e5-4610-a9b3-704ce9006150",
   "metadata": {},
   "outputs": [
    {
     "data": {
      "text/plain": [
       "[1, 2, [3, [4, 5]], 6, 7]"
      ]
     },
     "execution_count": 21,
     "metadata": {},
     "output_type": "execute_result"
    }
   ],
   "source": [
    "nested_deep = [1, [2, [3, [4, 5]], 6], 7]\n",
    "nested_deep[1:2] = nested_deep[1]\n",
    "nested_deep"
   ]
  },
  {
   "cell_type": "code",
   "execution_count": null,
   "id": "9557478c-f3d2-41b7-a708-ee0e61925d9e",
   "metadata": {},
   "outputs": [],
   "source": []
  }
 ],
 "metadata": {
  "kernelspec": {
   "display_name": "Python 3 (ipykernel)",
   "language": "python",
   "name": "python3"
  },
  "language_info": {
   "codemirror_mode": {
    "name": "ipython",
    "version": 3
   },
   "file_extension": ".py",
   "mimetype": "text/x-python",
   "name": "python",
   "nbconvert_exporter": "python",
   "pygments_lexer": "ipython3",
   "version": "3.12.7"
  }
 },
 "nbformat": 4,
 "nbformat_minor": 5
}
