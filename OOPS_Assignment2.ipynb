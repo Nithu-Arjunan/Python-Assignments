{
 "cells": [
  {
   "cell_type": "code",
   "execution_count": 59,
   "id": "0c188fae-c2d0-4111-9996-d8f16ed6f2fb",
   "metadata": {},
   "outputs": [],
   "source": [
    "class Book:\n",
    "    def __init__(self, title, author, isbn,available):\n",
    "        self.title = title\n",
    "        self.author = author\n",
    "        self.isbn = isbn\n",
    "        self.available = available\n",
    "\n",
    "    def display_info(self):\n",
    "        return f\"Title : {self.title} author = {self.author} Availability :{self.available}\"\n",
    "    def mark_unavailable(self):\n",
    "        self.available = False\n",
    "    def mark_available(self):\n",
    "        self.available = True\n",
    "\n",
    "class Library:\n",
    "    \n",
    "    def __init__(self):\n",
    "        self.book_list = {}\n",
    "    def add_book(self, book):\n",
    "        self.book_list[book.isbn] = {\n",
    "            \"Title\" : book.title,\n",
    "            \"Author\" : book.author,\n",
    "            \"Availability\" : book.available }\n",
    "        \n",
    "    def remove_book(self, isbn):\n",
    "        if isbn in self.book_list :\n",
    "            self.book_list.pop(isbn)\n",
    "            print(f\"Book with ISBN {isbn} removed.\")\n",
    "        else:\n",
    "            print(\"Book not found.\")\n",
    "                \n",
    "    def borrow_book(self, isbn):\n",
    "        if isbn in self.book_list :\n",
    "            if self.book_list[isbn][\"Availability\"]:\n",
    "                self.book_list[isbn][\"Availability\"] = False\n",
    "                print(f\"Book with ISBN {isbn} borrowed.\")\n",
    "            else:\n",
    "                print(\"Book is currently unavailable.\")\n",
    "                \n",
    "    def return_book(self, isbn) :\n",
    "        if isbn in self.book_list :\n",
    "            if self.book_list[isbn][\"Availability\"] == False:\n",
    "                self.book_list[isbn][\"Availability\"] = True\n",
    "                print(f\"Book with ISBN {isbn} returned.\")\n",
    "            else:\n",
    "                print(\"Book is currently unavailable.\")\n",
    "    def display_books(self):\n",
    "        print(self.book_list)\n",
    "        "
   ]
  },
  {
   "cell_type": "code",
   "execution_count": 61,
   "id": "59ecfa29-8ab1-4a6d-b907-4dbb751dd911",
   "metadata": {},
   "outputs": [],
   "source": [
    "book1 = Book(\"Harry Potter\", \"J.K. Rowling\", \"12345\", True)\n",
    "book2 = Book(\"To Kill a Mockingbird\", \"Harper Lee\", \"67890\", True)"
   ]
  },
  {
   "cell_type": "code",
   "execution_count": 63,
   "id": "15423a1f-917d-4494-89e3-10d7f370b077",
   "metadata": {},
   "outputs": [
    {
     "data": {
      "text/plain": [
       "'Title : Harry Potter author = J.K. Rowling Availability :True'"
      ]
     },
     "execution_count": 63,
     "metadata": {},
     "output_type": "execute_result"
    }
   ],
   "source": [
    "book1.display_info()"
   ]
  },
  {
   "cell_type": "code",
   "execution_count": 65,
   "id": "45fe1dfd-1244-480d-97db-04dec7bc3e76",
   "metadata": {},
   "outputs": [],
   "source": [
    "library = Library()\n",
    "\n",
    "library.add_book(book1)\n",
    "library.add_book(book2)"
   ]
  },
  {
   "cell_type": "code",
   "execution_count": 67,
   "id": "a2e89b12-fd02-44d9-9ea4-c51802ab33d1",
   "metadata": {},
   "outputs": [
    {
     "name": "stdout",
     "output_type": "stream",
     "text": [
      "Initial Book List:\n",
      "{'12345': {'Title': 'Harry Potter', 'Author': 'J.K. Rowling', 'Availability': True}, '67890': {'Title': 'To Kill a Mockingbird', 'Author': 'Harper Lee', 'Availability': True}}\n"
     ]
    }
   ],
   "source": [
    "print(\"Initial Book List:\")\n",
    "library.display_books()"
   ]
  },
  {
   "cell_type": "code",
   "execution_count": 69,
   "id": "3695c026-e641-40d8-8d75-c66216fd4a3c",
   "metadata": {},
   "outputs": [
    {
     "name": "stdout",
     "output_type": "stream",
     "text": [
      "Book with ISBN 12345 borrowed.\n",
      "\n",
      "After Borrowing Harry Potter:\n",
      "{'12345': {'Title': 'Harry Potter', 'Author': 'J.K. Rowling', 'Availability': False}, '67890': {'Title': 'To Kill a Mockingbird', 'Author': 'Harper Lee', 'Availability': True}}\n"
     ]
    }
   ],
   "source": [
    "library.borrow_book(\"12345\")\n",
    "print(\"\\nAfter Borrowing Harry Potter:\")\n",
    "library.display_books()"
   ]
  },
  {
   "cell_type": "code",
   "execution_count": 71,
   "id": "99147d88-18b5-440d-9aad-a75e9763ab68",
   "metadata": {},
   "outputs": [
    {
     "name": "stdout",
     "output_type": "stream",
     "text": [
      "Book with ISBN 12345 returned.\n",
      "\n",
      "After Returning Harry Potter:\n",
      "{'12345': {'Title': 'Harry Potter', 'Author': 'J.K. Rowling', 'Availability': True}, '67890': {'Title': 'To Kill a Mockingbird', 'Author': 'Harper Lee', 'Availability': True}}\n"
     ]
    }
   ],
   "source": [
    "library.return_book(\"12345\")\n",
    "print(\"\\nAfter Returning Harry Potter:\")\n",
    "library.display_books()"
   ]
  },
  {
   "cell_type": "code",
   "execution_count": 73,
   "id": "890875f1-8146-4959-aa78-e271707ffa35",
   "metadata": {},
   "outputs": [
    {
     "name": "stdout",
     "output_type": "stream",
     "text": [
      "Book with ISBN 67890 removed.\n",
      "\n",
      "After Removing To Kill a Mockingbird:\n",
      "{'12345': {'Title': 'Harry Potter', 'Author': 'J.K. Rowling', 'Availability': True}}\n"
     ]
    }
   ],
   "source": [
    "library.remove_book(\"67890\")\n",
    "print(\"\\nAfter Removing To Kill a Mockingbird:\")\n",
    "library.display_books()"
   ]
  },
  {
   "cell_type": "code",
   "execution_count": null,
   "id": "55a325dd-deef-4fb8-8097-a6cf42b4fc45",
   "metadata": {},
   "outputs": [],
   "source": []
  }
 ],
 "metadata": {
  "kernelspec": {
   "display_name": "Python 3 (ipykernel)",
   "language": "python",
   "name": "python3"
  },
  "language_info": {
   "codemirror_mode": {
    "name": "ipython",
    "version": 3
   },
   "file_extension": ".py",
   "mimetype": "text/x-python",
   "name": "python",
   "nbconvert_exporter": "python",
   "pygments_lexer": "ipython3",
   "version": "3.12.7"
  }
 },
 "nbformat": 4,
 "nbformat_minor": 5
}
