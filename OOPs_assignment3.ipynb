{
 "cells": [
  {
   "cell_type": "code",
   "execution_count": 217,
   "id": "4b3a5eea-f23a-4dbc-a57d-d162423c7cb7",
   "metadata": {},
   "outputs": [],
   "source": [
    "class Gamer:\n",
    "    def __init__(self,username,level):\n",
    "        assert level >= 1\n",
    "        self.username = username\n",
    "        self.level = level\n",
    "\n",
    "    def level_up(self):\n",
    "        self.level += 1\n",
    "    def get_info(self) -> str:\n",
    "        return f\"Name: {self.username} | level = {self.level}\"\n",
    "\n",
    "class Game:\n",
    "    players = {}\n",
    "    def __init__(self,name,min_level):\n",
    "        self.name = name\n",
    "        self.min_level = min_level\n",
    "        #self.players = []\n",
    "\n",
    "    def join_game(self, gamer) :\n",
    "        assert isinstance(gamer, Gamer)\n",
    "        self.gamer = gamer\n",
    "        if gamer.level >= self.min_level:\n",
    "            Game.players.setdefault(self.name, []).append({\n",
    "                \"Player\": gamer.username,\n",
    "                \"Level\": gamer.level\n",
    "                                })\n",
    "            print(f\"{gamer.username} successfully added to the {self.name}\")\n",
    "        else:\n",
    "            print(f\"{gamer.username} is not high enough level to join the {self.name}\")\n",
    "        \n",
    "    def show_players(self):\n",
    "        print(Game.players)\n",
    "        \n",
    "    \n",
    "        \n",
    "    "
   ]
  },
  {
   "cell_type": "code",
   "execution_count": 219,
   "id": "64d0b91b-6f67-44b0-91a2-a41052df2d7c",
   "metadata": {},
   "outputs": [],
   "source": [
    "gamer1 = Gamer('Aryan',2)\n",
    "gamer2 = Gamer('Teena',3)\n",
    "gamer3 = Gamer('Ravi',3)"
   ]
  },
  {
   "cell_type": "code",
   "execution_count": 221,
   "id": "12e8b85a-1406-4a2f-953d-f16b02705f2b",
   "metadata": {},
   "outputs": [],
   "source": [
    "gamer4 = Gamer('Raghu',1)"
   ]
  },
  {
   "cell_type": "code",
   "execution_count": 223,
   "id": "0b077b40-5c3a-401c-bcf4-da4b04242909",
   "metadata": {},
   "outputs": [
    {
     "data": {
      "text/plain": [
       "'Name: Raghu | level = 1'"
      ]
     },
     "execution_count": 223,
     "metadata": {},
     "output_type": "execute_result"
    }
   ],
   "source": [
    "gamer4.get_info()"
   ]
  },
  {
   "cell_type": "code",
   "execution_count": 225,
   "id": "eae2511f-4319-40d1-b3ec-a4904cebc0eb",
   "metadata": {},
   "outputs": [],
   "source": [
    "game1 = Game(\"Battlezone\",3)\n",
    "game2 = Game('DraggonQuest',5)"
   ]
  },
  {
   "cell_type": "code",
   "execution_count": 227,
   "id": "a1f6be5a-51f3-4378-bee4-24da85b89783",
   "metadata": {},
   "outputs": [
    {
     "name": "stdout",
     "output_type": "stream",
     "text": [
      "Aryan is not high enough level to join the Battlezone\n",
      "Teena successfully added to the Battlezone\n",
      "Ravi successfully added to the Battlezone\n"
     ]
    }
   ],
   "source": [
    "game1.join_game(gamer1)\n",
    "game1.join_game(gamer2)\n",
    "game1.join_game(gamer3)"
   ]
  },
  {
   "cell_type": "code",
   "execution_count": 229,
   "id": "57d63a95-7b6c-4546-9cd6-9b8ef3fc081c",
   "metadata": {},
   "outputs": [
    {
     "name": "stdout",
     "output_type": "stream",
     "text": [
      "Aryan is not high enough level to join the DraggonQuest\n",
      "Teena is not high enough level to join the DraggonQuest\n",
      "Ravi is not high enough level to join the DraggonQuest\n"
     ]
    }
   ],
   "source": [
    "game2.join_game(gamer1)\n",
    "game2.join_game(gamer2)\n",
    "game2.join_game(gamer3)"
   ]
  },
  {
   "cell_type": "code",
   "execution_count": 237,
   "id": "af4bced2-0532-4254-b829-70732e2b5a7e",
   "metadata": {},
   "outputs": [
    {
     "name": "stdout",
     "output_type": "stream",
     "text": [
      "Aryan successfully added to the DraggonQuest\n"
     ]
    }
   ],
   "source": [
    "gamer1.level_up()\n",
    "game2.join_game(gamer1)"
   ]
  },
  {
   "cell_type": "code",
   "execution_count": 239,
   "id": "8b7c7c7e-2385-418f-9a8f-60ac0ca2630e",
   "metadata": {},
   "outputs": [
    {
     "name": "stdout",
     "output_type": "stream",
     "text": [
      "{'Battlezone': [{'Player': 'Teena', 'Level': 3}, {'Player': 'Ravi', 'Level': 3}], 'DraggonQuest': [{'Player': 'Aryan', 'Level': 5}]}\n"
     ]
    }
   ],
   "source": [
    "game1.show_players()"
   ]
  },
  {
   "cell_type": "code",
   "execution_count": null,
   "id": "2f5bc1c7-c852-41b5-bfc5-876c9ae69272",
   "metadata": {},
   "outputs": [],
   "source": []
  }
 ],
 "metadata": {
  "kernelspec": {
   "display_name": "Python 3 (ipykernel)",
   "language": "python",
   "name": "python3"
  },
  "language_info": {
   "codemirror_mode": {
    "name": "ipython",
    "version": 3
   },
   "file_extension": ".py",
   "mimetype": "text/x-python",
   "name": "python",
   "nbconvert_exporter": "python",
   "pygments_lexer": "ipython3",
   "version": "3.12.7"
  }
 },
 "nbformat": 4,
 "nbformat_minor": 5
}
