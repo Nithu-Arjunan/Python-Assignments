{
 "cells": [
  {
   "cell_type": "markdown",
   "id": "31f29345-044f-4c56-9316-8b805220eabf",
   "metadata": {},
   "source": [
    "Question 1: Gym Membership System\n",
    "Scenario:\n",
    "\n",
    "A neighborhood gym wants to digitize its member registration. Every member has a name and age. The gym has a fixed joining fee for all members. Also, anyone below the age of 13 is not allowed to join.\n",
    "\n",
    "Tasks:\n",
    "\n",
    "Design a way to represent a member in this system.\n",
    "\n",
    "Store the member's name and age.\n",
    "\n",
    "Ensure the system prevents anyone under 13 from being added.\n",
    "\n",
    "There should be a way to view the member's details including their fee."
   ]
  },
  {
   "cell_type": "code",
   "execution_count": 54,
   "id": "58fb556d-4218-4eb2-98e8-d47436399b6f",
   "metadata": {},
   "outputs": [
    {
     "name": "stdout",
     "output_type": "stream",
     "text": [
      "Name : RohitAge : 25 Fee : 100\n",
      "True\n"
     ]
    }
   ],
   "source": [
    "class GymMember:\n",
    "    joining_fee = 100\n",
    "\n",
    "    def __init__(self,name,age):\n",
    "        self.name=name\n",
    "        self.age=age\n",
    "        \n",
    "            \n",
    "    def details(self):\n",
    "        if self.age < 13:\n",
    "            return \"Minimum age to join is 13 years\"\n",
    "        return f\"Name : {self.name}Age : {self.age} Fee : {self.joining_fee}\"\n",
    "        \n",
    "\n",
    "m1 = GymMember(\"Rohit\", 25)\n",
    "print(m1.details())\n",
    "\n",
    "m2 = GymMember(\"Ankit\", 10)\n",
    "\n",
    "\n",
    "m3 = GymMember(\"Sonal\", 30)\n",
    "print(m1.joining_fee == m3.joining_fee)"
   ]
  },
  {
   "cell_type": "markdown",
   "id": "4e19c2ed-742d-4b0f-800c-168ec591eade",
   "metadata": {},
   "source": [
    "Question 2: Employee Bonus Calculator\n",
    "Scenario:\n",
    "\n",
    "A company is planning to automate bonus calculations. Every employee has a name, salary, and a performance score. If the score is more than 80, they get a 10% bonus. Salaries must always be positive, and scores should not exceed 100.\n",
    "\n",
    "Tasks:\n",
    "\n",
    "Represent employees with relevant information.\n",
    "\n",
    "Ensure salaries are always valid.\n",
    "\n",
    "Ensure scores are within limits.\n",
    "\n",
    "There should be a way to compute the bonus for an employee."
   ]
  },
  {
   "cell_type": "code",
   "execution_count": 69,
   "id": "16151265-f450-4929-b5c5-c3479dfc08fa",
   "metadata": {},
   "outputs": [
    {
     "name": "stdout",
     "output_type": "stream",
     "text": [
      "5000.0\n",
      "0\n",
      "Salary cannot be negative\n",
      "Performance score cannot be greater than 100\n"
     ]
    }
   ],
   "source": [
    "class Employee:\n",
    "    \n",
    "    def __init__(self,name,salary,perf_score):\n",
    "        self.name=name\n",
    "        self.salary=salary\n",
    "        self.perf_score=perf_score\n",
    "    def calculate_bonus(self):\n",
    "        if self.salary < 0:\n",
    "            return \"Salary cannot be negative\"\n",
    "        if self.perf_score > 100:\n",
    "            return \"Performance score cannot be greater than 100\"\n",
    "        if self.perf_score > 80:\n",
    "            return (0.1*self.salary)\n",
    "        else :\n",
    "            return 0\n",
    "\n",
    "e1 = Employee(\"Neha\", 50000, 85)\n",
    "print(e1.calculate_bonus())\n",
    "\n",
    "e2 = Employee(\"Amit\", 60000, 60)\n",
    "print(e2.calculate_bonus())\n",
    "\n",
    "e3 = Employee(\"John\", -40000, 75)\n",
    "print(e3.calculate_bonus())\n",
    "\n",
    "e4 = Employee(\"Kiran\", 40000, 120)\n",
    "print(e4.calculate_bonus())"
   ]
  },
  {
   "cell_type": "markdown",
   "id": "49a93a99-f278-4506-a992-29909fcba1d8",
   "metadata": {},
   "source": [
    "Question 3: Book Lending Tracker\n",
    "Scenario:\n",
    "\n",
    "A small library wants a system to manage books. Each book has a title and an author. By default, books are marked as available. When a book is given to someone, its status should change to unavailable.\n",
    "\n",
    "Tasks:\n",
    "\n",
    "Create a way to represent books in the system.\n",
    "Store title and author.\n",
    "Maintain a status that shows whether the book is available.\n",
    "Allow status to be updated when a book is issued.\n",
    "There should be a way to see book info including availability."
   ]
  },
  {
   "cell_type": "code",
   "execution_count": 19,
   "id": "0113f69f-a988-4234-8a52-04a9abc5d5a7",
   "metadata": {},
   "outputs": [
    {
     "name": "stdout",
     "output_type": "stream",
     "text": [
      "Author : A.P.J Abdul Kalam \n",
      "Title : Wings of Fire \n",
      "Availability : True\n",
      "Author : A.P.J Abdul Kalam \n",
      "Title : Wings of Fire \n",
      "Availability : False\n",
      "Author : George Orwell \n",
      "Title : 1984 \n",
      "Availability : True\n"
     ]
    }
   ],
   "source": [
    "class Book:\n",
    "    \n",
    "    def __init__(self,title,author):\n",
    "        self.title=title\n",
    "        self.author=author\n",
    "        self.available=True\n",
    "    def info(self):\n",
    "        return f\"Author : {self.author} \\nTitle : {self.title} \\nAvailability : {self.available}\"\n",
    "\n",
    "    def issue_book(self):\n",
    "        if self.available == True :\n",
    "            self.available = False\n",
    "            return f\"Author : {self.author} \\nTitle : {self.title} \\nAvailability : {self.available}\"\n",
    "        else :\n",
    "            self.available = True\n",
    "            return f\"Author : {self.author} \\nTitle : {self.title} \\nAvailability : {self.available}\"\n",
    "        \n",
    "\n",
    "\n",
    "b1 = Book(\"Wings of Fire\", \"A.P.J Abdul Kalam\")\n",
    "print(b1.info()) \n",
    "\n",
    "b1.issue_book()\n",
    "print(b1.info())\n",
    "\n",
    "b2 = Book(\"1984\", \"George Orwell\")\n",
    "print(b2.info())"
   ]
  },
  {
   "cell_type": "markdown",
   "id": "103a16ab-3a87-4044-a28d-ef57b31a49be",
   "metadata": {},
   "source": [
    "-Question 4: Student Progress Tracker\n",
    "Scenario:\n",
    "\n",
    "You are building a progress tracker for students in an online learning app. Every student has a name and a unique ID. Each student can enroll in multiple courses, mark courses as completed, and calculate the percentage of courses completed. You also want to keep track of how many students have been created in total.\n",
    "\n",
    "Tasks:\n",
    "\n",
    "Represent each student with a name and unique student ID.\n",
    "Keep track of all the courses they enroll in (store inside each student).\n",
    "Maintain a count of how many students exist (shared across all).\n",
    "Allow: a) Enrolling in a new course. b) Marking a course as completed. c) Getting all completed courses. d) Calculating percent completion."
   ]
  },
  {
   "cell_type": "code",
   "execution_count": 223,
   "id": "e3531ac1-be78-43f6-9584-4ab0e8e88575",
   "metadata": {},
   "outputs": [],
   "source": [
    "class Student:\n",
    "    student_records = {}\n",
    "    \n",
    "    def __init__(self,name,unique_id):\n",
    "        self.name=name\n",
    "        self.unique_id=unique_id\n",
    "        self.course_history = []\n",
    "        Student.student_records[self.unique_id] = {\n",
    "            \"name\": self.name,\n",
    "            \"courses\": self.course_history\n",
    "        }\n",
    "    def enroll(self,course):\n",
    "        self.course=course\n",
    "        self.status='Enrolled'\n",
    "        self.course_history.append({'course':self.course,'Status':self.status})\n",
    "        return f\"Name : {self.name} Id : {self.unique_id} Course : {self.course} Status : {self.course_history}\"\n",
    "    def complete(self,course):\n",
    "        self.course=course\n",
    "        self.status='Completed'\n",
    "        for courses in self.course_history:\n",
    "            if courses['course'] == self.course :\n",
    "                courses['Status'] = 'Completed'\n",
    "    def get_completed_courses(self):\n",
    "        return [i['course'] for i in self.course_history if i['Status'] == 'Completed']\n",
    "    def completion_rate(self):\n",
    "        if (self.course_history == []):\n",
    "            return 0\n",
    "        else:\n",
    "            total=len(self.course_history)\n",
    "            count = sum(1 for i in self.course_history if i['Status'] == 'Completed')\n",
    "            return round((count/total) *100,2)\n",
    "    def total_students():\n",
    "        return len(Student.student_records)\n",
    "        \n",
    "\n",
    "    "
   ]
  },
  {
   "cell_type": "code",
   "execution_count": 225,
   "id": "9a68f3f8-a80e-4fbc-a5af-f5eaf0b444a5",
   "metadata": {},
   "outputs": [],
   "source": [
    "s1 = Student(\"Aarav\", \"STU001\")\n",
    "s2 = Student(\"Tanya\", \"STU002\")"
   ]
  },
  {
   "cell_type": "code",
   "execution_count": 227,
   "id": "59830347-b124-4007-9986-87c413325079",
   "metadata": {},
   "outputs": [
    {
     "data": {
      "text/plain": [
       "\"Name : Aarav Id : STU001 Course : SQL Status : [{'course': 'Python', 'Status': 'Enrolled'}, {'course': 'Data Science', 'Status': 'Enrolled'}, {'course': 'SQL', 'Status': 'Enrolled'}]\""
      ]
     },
     "execution_count": 227,
     "metadata": {},
     "output_type": "execute_result"
    }
   ],
   "source": [
    "# Enroll courses\n",
    "s1.enroll(\"Python\")\n",
    "s1.enroll(\"Data Science\")\n",
    "s1.enroll(\"SQL\")"
   ]
  },
  {
   "cell_type": "code",
   "execution_count": 229,
   "id": "35db9950-4d5f-4bac-94b1-513775ef2d14",
   "metadata": {},
   "outputs": [],
   "source": [
    "# Mark some as completed\n",
    "s1.complete(\"Python\")\n",
    "s1.complete(\"SQL\")"
   ]
  },
  {
   "cell_type": "code",
   "execution_count": 231,
   "id": "0441c8e9-1fd2-4d31-9e6e-e8ea194a7675",
   "metadata": {},
   "outputs": [
    {
     "name": "stdout",
     "output_type": "stream",
     "text": [
      "['Python', 'SQL']\n"
     ]
    }
   ],
   "source": [
    "print(s1.get_completed_courses()) "
   ]
  },
  {
   "cell_type": "code",
   "execution_count": 197,
   "id": "5ad25f70-f18c-4f78-a851-b9c94f370f61",
   "metadata": {},
   "outputs": [
    {
     "name": "stdout",
     "output_type": "stream",
     "text": [
      "40.0\n"
     ]
    }
   ],
   "source": [
    "print(s1.completion_rate())"
   ]
  },
  {
   "cell_type": "code",
   "execution_count": 199,
   "id": "72a4a3fe-a04a-4477-bc0c-9120bb0a1c57",
   "metadata": {},
   "outputs": [
    {
     "name": "stdout",
     "output_type": "stream",
     "text": [
      "0\n"
     ]
    }
   ],
   "source": [
    "print(s2.completion_rate())"
   ]
  },
  {
   "cell_type": "code",
   "execution_count": 201,
   "id": "d068ae61-49d0-4f15-b110-adf2c91596b9",
   "metadata": {},
   "outputs": [
    {
     "name": "stdout",
     "output_type": "stream",
     "text": [
      "2\n"
     ]
    }
   ],
   "source": [
    "print(Student.total_students()) "
   ]
  },
  {
   "cell_type": "code",
   "execution_count": 203,
   "id": "67695ac0-882d-4714-9d7f-af2a707ed226",
   "metadata": {},
   "outputs": [
    {
     "data": {
      "text/plain": [
       "5"
      ]
     },
     "execution_count": 203,
     "metadata": {},
     "output_type": "execute_result"
    }
   ],
   "source": [
    "len(s1.course_history)"
   ]
  },
  {
   "cell_type": "code",
   "execution_count": 205,
   "id": "162fcbb9-4a49-4474-ad90-34a7b8a915aa",
   "metadata": {},
   "outputs": [
    {
     "data": {
      "text/plain": [
       "[{'course': 'Python', 'Status': 'Enrolled'},\n",
       " {'course': 'Data Science', 'Status': 'Enrolled'},\n",
       " {'course': 'SQL', 'Status': 'Enrolled'},\n",
       " {'course': 'Python', 'Status': 'Completed'},\n",
       " {'course': 'SQL', 'Status': 'Completed'}]"
      ]
     },
     "execution_count": 205,
     "metadata": {},
     "output_type": "execute_result"
    }
   ],
   "source": [
    "s1.course_history\n"
   ]
  },
  {
   "cell_type": "code",
   "execution_count": null,
   "id": "ce7e371c-fb6d-4458-a0cb-9d104a45d2e1",
   "metadata": {},
   "outputs": [],
   "source": []
  }
 ],
 "metadata": {
  "kernelspec": {
   "display_name": "Python 3 (ipykernel)",
   "language": "python",
   "name": "python3"
  },
  "language_info": {
   "codemirror_mode": {
    "name": "ipython",
    "version": 3
   },
   "file_extension": ".py",
   "mimetype": "text/x-python",
   "name": "python",
   "nbconvert_exporter": "python",
   "pygments_lexer": "ipython3",
   "version": "3.12.7"
  }
 },
 "nbformat": 4,
 "nbformat_minor": 5
}
