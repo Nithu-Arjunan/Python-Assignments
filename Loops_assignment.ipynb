{
 "cells": [
  {
   "cell_type": "markdown",
   "id": "6cec398e-3b5b-427d-a749-764725213ebc",
   "metadata": {},
   "source": [
    " **Question 1: ATM PIN**\n",
    "\n",
    "You're building a basic ATM security system. When a user inserts their ATM card, they are asked to enter a 4-digit PIN. The user gets only **3 chances** to enter the correct PIN.\n",
    "\n",
    "1. If the correct PIN is entered, print \"Access Granted.\"\n",
    "\n",
    "2. If the user enters the wrong PIN 3 times in a row, print \"Card Blocked.\"\n",
    "\n",
    "Write a program using a loop to simulate this behavior. **Use the correct PIN as \"1234\" for now.**"
   ]
  },
  {
   "cell_type": "code",
   "execution_count": 22,
   "id": "a0ca981c-e3d1-41a6-96d2-976b679c1df3",
   "metadata": {},
   "outputs": [
    {
     "name": "stdin",
     "output_type": "stream",
     "text": [
      "Enter the pin 4567\n"
     ]
    },
    {
     "name": "stdout",
     "output_type": "stream",
     "text": [
      "Incorrect pin\n"
     ]
    },
    {
     "name": "stdin",
     "output_type": "stream",
     "text": [
      "Enter the pin 4545\n"
     ]
    },
    {
     "name": "stdout",
     "output_type": "stream",
     "text": [
      "Incorrect pin\n"
     ]
    },
    {
     "name": "stdin",
     "output_type": "stream",
     "text": [
      "Enter the pin 344\n"
     ]
    },
    {
     "name": "stdout",
     "output_type": "stream",
     "text": [
      "Incorrect pin\n",
      "Card Blocked\n"
     ]
    }
   ],
   "source": [
    "correct_pin = 1234\n",
    "count = 0\n",
    "\n",
    "while ( count < 3) :\n",
    "    \n",
    "    pin = int(input(\"Enter the pin\"))\n",
    "    \n",
    "    if (pin == correct_pin):\n",
    "        print(\"Access granted\")\n",
    "        break\n",
    "    else:\n",
    "        print(\"Incorrect pin\")\n",
    "        count += 1\n",
    "else:\n",
    "    print(\"Card Blocked\")"
   ]
  },
  {
   "cell_type": "markdown",
   "id": "7e3ca8cb-5fa6-4642-9bca-4e966d4f0f79",
   "metadata": {},
   "source": [
    "**Question 2: Reverse a Number**\n",
    "\n",
    "Ask the user to enter an integer number. Your task is to **reverse the digits** of that number and display the reversed number.\n",
    "\n",
    "**Example:**\n",
    "\n",
    "1. If the user enters 1234, your program should print 4321.\n",
    "2. If they enter 5080, it should print 805."
   ]
  },
  {
   "cell_type": "code",
   "execution_count": 46,
   "id": "5ade24e7-1668-40a5-ad1d-be20693bc9ac",
   "metadata": {},
   "outputs": [
    {
     "name": "stdin",
     "output_type": "stream",
     "text": [
      "Enter an integer 21313\n"
     ]
    },
    {
     "name": "stdout",
     "output_type": "stream",
     "text": [
      "31312\n"
     ]
    }
   ],
   "source": [
    "num = int(input(\"Enter an integer\"))\n",
    "\n",
    "reverse_num = 0\n",
    "\n",
    "while (num != 0 ):\n",
    "    digit = num % 10\n",
    "    reverse_num = reverse_num * 10 + digit\n",
    "    num //= 10\n",
    "    \n",
    "print(reverse_num)"
   ]
  },
  {
   "cell_type": "markdown",
   "id": "bfd75c12-eda9-4730-8fc5-c97a3dbfdccd",
   "metadata": {},
   "source": [
    "**Question 4: Count Digits in a Number**\n",
    "\n",
    "Take an integer from the user and count how many digits it has"
   ]
  },
  {
   "cell_type": "code",
   "execution_count": 54,
   "id": "0b8fe0ea-12f8-4ba8-ae08-5eb96e31d0ba",
   "metadata": {},
   "outputs": [
    {
     "name": "stdin",
     "output_type": "stream",
     "text": [
      "Enter an integer 98765424234\n"
     ]
    },
    {
     "name": "stdout",
     "output_type": "stream",
     "text": [
      " The entered number has 11 digits\n"
     ]
    }
   ],
   "source": [
    "num = int(input(\"Enter an integer\"))\n",
    "\n",
    "reverse_num = 0\n",
    "count = 0\n",
    "\n",
    "while (num != 0 ):\n",
    "    digit = num % 10\n",
    "    count += 1\n",
    "    num //= 10\n",
    "    \n",
    "print(f\" The entered number has {count} digits\")"
   ]
  },
  {
   "cell_type": "markdown",
   "id": "f2de035e-347c-4593-80ee-3c7a484ebb52",
   "metadata": {},
   "source": [
    "**Question 5: Take a number from the user and calculate its factorial using a for loop.**\n",
    "\n",
    "Factorial of n is: n * (n-1) * (n-2) * ... * 1"
   ]
  },
  {
   "cell_type": "code",
   "execution_count": 65,
   "id": "e76e42fa-b801-4718-8d3b-53443eb55334",
   "metadata": {},
   "outputs": [
    {
     "name": "stdin",
     "output_type": "stream",
     "text": [
      " Enter a number to find the factorial 8\n"
     ]
    },
    {
     "name": "stdout",
     "output_type": "stream",
     "text": [
      " The factorial is 40320\n"
     ]
    }
   ],
   "source": [
    "num = int(input(\" Enter a number to find the factorial\"))\n",
    "\n",
    "mul = 1\n",
    "\n",
    "for n in range(num):\n",
    "    mul = mul * num\n",
    "    num -= 1\n",
    "print(f\" The factorial is {mul}\")"
   ]
  },
  {
   "cell_type": "markdown",
   "id": "7249b4f3-b2dd-4e9b-8325-0f5a087cd85a",
   "metadata": {},
   "source": [
    "**Question 6: Find the Greatest Digit in a Number**\n",
    "\n",
    "Take an integer input and find the largest digit in it.\n",
    "\n",
    "Example: 59281 → output: 9"
   ]
  },
  {
   "cell_type": "code",
   "execution_count": 74,
   "id": "b7b911e3-3d69-4d1b-9622-21b21f1a56d8",
   "metadata": {},
   "outputs": [
    {
     "name": "stdin",
     "output_type": "stream",
     "text": [
      "Enter a number 2321328945345\n"
     ]
    },
    {
     "name": "stdout",
     "output_type": "stream",
     "text": [
      "9\n"
     ]
    }
   ],
   "source": [
    "num = int(input(\"Enter a number\"))\n",
    "largest_num = 0\n",
    "\n",
    "while( num != 0):\n",
    "    digit = num % 10\n",
    "    if ( digit > largest_num):\n",
    "        largest_num = digit\n",
    "    num //= 10\n",
    "\n",
    "print(\" The largest number is : \",largest_num)"
   ]
  },
  {
   "cell_type": "markdown",
   "id": "95d7751c-f787-4419-96c0-4bada4ef746c",
   "metadata": {},
   "source": [
    "**Question 7: Check if Number is Palindrome**\n",
    "\n",
    "A number is a palindrome if it reads the same forward and backward.\n",
    "\n",
    "Example: 121, 444, 9889 → Palindrome\n",
    "\n",
    "Ask user to input a number and check if it's a palindrome.\n"
   ]
  },
  {
   "cell_type": "code",
   "execution_count": 85,
   "id": "480b3a06-cdef-4aff-8143-81672789d838",
   "metadata": {},
   "outputs": [
    {
     "name": "stdin",
     "output_type": "stream",
     "text": [
      "Enter an integer 41534\n"
     ]
    },
    {
     "name": "stdout",
     "output_type": "stream",
     "text": [
      " The number is not a palindrome\n"
     ]
    }
   ],
   "source": [
    "input_num = int(input(\"Enter an integer\"))\n",
    "num = input_num\n",
    "reverse_num = 0\n",
    "\n",
    "while (num != 0 ):\n",
    "    digit = num % 10\n",
    "    reverse_num = reverse_num * 10 + digit\n",
    "    num //= 10\n",
    "    \n",
    "if ( input_num == reverse_num):\n",
    "    print(\" The number is a palindrome\")\n",
    "    \n",
    "else:\n",
    "    print(\" The number is not a palindrome\")"
   ]
  },
  {
   "cell_type": "markdown",
   "id": "0a3c525c-6155-4e90-9008-f4482c0fbab5",
   "metadata": {},
   "source": [
    "**Question 8: Count Even and Odd Digits**\n",
    "\n",
    "Ask the user for a number and count how many even and odd digits it has."
   ]
  },
  {
   "cell_type": "code",
   "execution_count": 96,
   "id": "f60dca66-ef92-43fc-8880-26d46a0ba587",
   "metadata": {},
   "outputs": [
    {
     "name": "stdin",
     "output_type": "stream",
     "text": [
      "Enter an integer 357986\n"
     ]
    },
    {
     "name": "stdout",
     "output_type": "stream",
     "text": [
      "Even numbers count is : 2\n",
      "Odd numbers count is : 4\n"
     ]
    }
   ],
   "source": [
    "num = int(input(\"Enter an integer\"))\n",
    "\n",
    "reverse_num = 0\n",
    "even_count = 0\n",
    "odd_count = 0\n",
    "\n",
    "while (num != 0 ):\n",
    "    digit = num % 10\n",
    "    if ( digit % 2) == 0 :\n",
    "        even_count += 1\n",
    "    else:\n",
    "        odd_count += 1\n",
    "    num //= 10\n",
    "    \n",
    "print(\"Even numbers count is :\",even_count)\n",
    "print(\"Odd numbers count is :\" ,odd_count)"
   ]
  },
  {
   "cell_type": "markdown",
   "id": "62e452a4-0bb0-470f-be59-30dfbcfae005",
   "metadata": {},
   "source": [
    "**Question 1** Ask the user to enter 10 numbers one by one.\n",
    "\n",
    "As soon as the user enters a negative number, **stop the loop and print \"Stopped at negative input.\"**"
   ]
  },
  {
   "cell_type": "code",
   "execution_count": 107,
   "id": "9538e963-cd95-43a3-bdb0-b791bd5c7fc8",
   "metadata": {},
   "outputs": [
    {
     "name": "stdin",
     "output_type": "stream",
     "text": [
      "Enter a Number 2\n"
     ]
    },
    {
     "name": "stdout",
     "output_type": "stream",
     "text": [
      "User Entered the Number: 2\n"
     ]
    },
    {
     "name": "stdin",
     "output_type": "stream",
     "text": [
      "Enter a Number 3\n"
     ]
    },
    {
     "name": "stdout",
     "output_type": "stream",
     "text": [
      "User Entered the Number: 3\n"
     ]
    },
    {
     "name": "stdin",
     "output_type": "stream",
     "text": [
      "Enter a Number 4\n"
     ]
    },
    {
     "name": "stdout",
     "output_type": "stream",
     "text": [
      "User Entered the Number: 4\n"
     ]
    },
    {
     "name": "stdin",
     "output_type": "stream",
     "text": [
      "Enter a Number -5\n"
     ]
    },
    {
     "name": "stdout",
     "output_type": "stream",
     "text": [
      "Stopped at negative input\n"
     ]
    }
   ],
   "source": [
    "for i in range(10):\n",
    "    \n",
    "    num=int(input(\"Enter a Number\"))\n",
    "    if (num < 0):\n",
    "        print(\"Stopped at negative input\")\n",
    "        break\n",
    "    print(\"User Entered the Number:\",num)"
   ]
  },
  {
   "cell_type": "markdown",
   "id": "0e78056a-e8db-482f-9532-7804f95b9b73",
   "metadata": {},
   "source": [
    "**Question 2:** Ask the user to enter a word.\n",
    "\n",
    "Print each character except vowels "
   ]
  },
  {
   "cell_type": "code",
   "execution_count": 126,
   "id": "68ea40f7-eca8-447b-b8f5-86c7f4ae7fbd",
   "metadata": {},
   "outputs": [
    {
     "name": "stdin",
     "output_type": "stream",
     "text": [
      "Enter a word qwert\n"
     ]
    },
    {
     "name": "stdout",
     "output_type": "stream",
     "text": [
      "q\n",
      "w\n",
      "r\n",
      "t\n"
     ]
    }
   ],
   "source": [
    "word = input(\"Enter a word\")\n",
    "vowels = ['a','e','i','o','u']\n",
    "\n",
    "for i in range(len(word)):\n",
    "    if word[i] in vowels :\n",
    "        continue\n",
    "    print(word[i])"
   ]
  },
  {
   "cell_type": "markdown",
   "id": "76f71a29-714b-425a-8fe9-fcfa92013ac8",
   "metadata": {},
   "source": [
    "**Question 3:** Skip Even, Stop on 13\n",
    "\n",
    "1. Print numbers from 1 to 50.\n",
    "\n",
    "2. Skip even numbers \n",
    "\n",
    "3. Stop completely if number 13 is reached "
   ]
  },
  {
   "cell_type": "code",
   "execution_count": 129,
   "id": "6d1966ed-3317-493d-9ab1-65d07663deb0",
   "metadata": {},
   "outputs": [
    {
     "name": "stdout",
     "output_type": "stream",
     "text": [
      "1\n",
      "3\n",
      "5\n",
      "7\n",
      "9\n",
      "11\n"
     ]
    }
   ],
   "source": [
    "for i in range (1,51):\n",
    "     \n",
    "    if ( i%2) == 0 :\n",
    "        continue\n",
    "    if( i == 13):\n",
    "        break\n",
    "    else:\n",
    "        print(i)"
   ]
  },
  {
   "cell_type": "code",
   "execution_count": null,
   "id": "90022725-d5b6-44aa-8ade-85f63b9055b5",
   "metadata": {},
   "outputs": [],
   "source": []
  }
 ],
 "metadata": {
  "kernelspec": {
   "display_name": "Python 3 (ipykernel)",
   "language": "python",
   "name": "python3"
  },
  "language_info": {
   "codemirror_mode": {
    "name": "ipython",
    "version": 3
   },
   "file_extension": ".py",
   "mimetype": "text/x-python",
   "name": "python",
   "nbconvert_exporter": "python",
   "pygments_lexer": "ipython3",
   "version": "3.12.7"
  }
 },
 "nbformat": 4,
 "nbformat_minor": 5
}
